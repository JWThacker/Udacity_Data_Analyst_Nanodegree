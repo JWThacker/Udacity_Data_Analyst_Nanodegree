{
 "cells": [
  {
   "cell_type": "code",
   "execution_count": 41,
   "metadata": {},
   "outputs": [],
   "source": [
    "import requests\n",
    "import os\n",
    "import pandas as pd\n",
    "import numpy as np\n",
    "import matplotlib.pyplot as plt\n",
    "import seaborn as sb"
   ]
  },
  {
   "cell_type": "code",
   "execution_count": 30,
   "metadata": {},
   "outputs": [],
   "source": [
    "url = ['https://video.udacity-data.com/topher/2018/April/5ac2907f_fuel-econ/fuel-econ.csv']"
   ]
  },
  {
   "cell_type": "code",
   "execution_count": 31,
   "metadata": {},
   "outputs": [],
   "source": [
    "file_name = url[0].split('/')[-1]"
   ]
  },
  {
   "cell_type": "code",
   "execution_count": 32,
   "metadata": {},
   "outputs": [
    {
     "data": {
      "text/plain": [
       "'fuel-econ.csv'"
      ]
     },
     "execution_count": 32,
     "metadata": {},
     "output_type": "execute_result"
    }
   ],
   "source": [
    "file_name"
   ]
  },
  {
   "cell_type": "code",
   "execution_count": 33,
   "metadata": {},
   "outputs": [],
   "source": [
    "if not os.path.exists(file_name):\n",
    "    resp = requests.get(url[0])\n",
    "    with open(os.path.join('./',file_name),mode='wb') as file:\n",
    "        file.write(resp.content)"
   ]
  },
  {
   "cell_type": "code",
   "execution_count": 34,
   "metadata": {},
   "outputs": [
    {
     "data": {
      "text/html": [
       "<div>\n",
       "<style scoped>\n",
       "    .dataframe tbody tr th:only-of-type {\n",
       "        vertical-align: middle;\n",
       "    }\n",
       "\n",
       "    .dataframe tbody tr th {\n",
       "        vertical-align: top;\n",
       "    }\n",
       "\n",
       "    .dataframe thead th {\n",
       "        text-align: right;\n",
       "    }\n",
       "</style>\n",
       "<table border=\"1\" class=\"dataframe\">\n",
       "  <thead>\n",
       "    <tr style=\"text-align: right;\">\n",
       "      <th></th>\n",
       "      <th>id</th>\n",
       "      <th>make</th>\n",
       "      <th>model</th>\n",
       "      <th>year</th>\n",
       "      <th>VClass</th>\n",
       "      <th>drive</th>\n",
       "      <th>trans</th>\n",
       "      <th>fuelType</th>\n",
       "      <th>cylinders</th>\n",
       "      <th>displ</th>\n",
       "      <th>pv2</th>\n",
       "      <th>pv4</th>\n",
       "      <th>city</th>\n",
       "      <th>UCity</th>\n",
       "      <th>highway</th>\n",
       "      <th>UHighway</th>\n",
       "      <th>comb</th>\n",
       "      <th>co2</th>\n",
       "      <th>feScore</th>\n",
       "      <th>ghgScore</th>\n",
       "    </tr>\n",
       "  </thead>\n",
       "  <tbody>\n",
       "    <tr>\n",
       "      <th>0</th>\n",
       "      <td>32204</td>\n",
       "      <td>Nissan</td>\n",
       "      <td>GT-R</td>\n",
       "      <td>2013</td>\n",
       "      <td>Subcompact Cars</td>\n",
       "      <td>All-Wheel Drive</td>\n",
       "      <td>Automatic (AM6)</td>\n",
       "      <td>Premium Gasoline</td>\n",
       "      <td>6</td>\n",
       "      <td>3.8</td>\n",
       "      <td>79</td>\n",
       "      <td>0</td>\n",
       "      <td>16.4596</td>\n",
       "      <td>20.2988</td>\n",
       "      <td>22.5568</td>\n",
       "      <td>30.1798</td>\n",
       "      <td>18.7389</td>\n",
       "      <td>471</td>\n",
       "      <td>4</td>\n",
       "      <td>4</td>\n",
       "    </tr>\n",
       "    <tr>\n",
       "      <th>1</th>\n",
       "      <td>32205</td>\n",
       "      <td>Volkswagen</td>\n",
       "      <td>CC</td>\n",
       "      <td>2013</td>\n",
       "      <td>Compact Cars</td>\n",
       "      <td>Front-Wheel Drive</td>\n",
       "      <td>Automatic (AM-S6)</td>\n",
       "      <td>Premium Gasoline</td>\n",
       "      <td>4</td>\n",
       "      <td>2.0</td>\n",
       "      <td>94</td>\n",
       "      <td>0</td>\n",
       "      <td>21.8706</td>\n",
       "      <td>26.9770</td>\n",
       "      <td>31.0367</td>\n",
       "      <td>42.4936</td>\n",
       "      <td>25.2227</td>\n",
       "      <td>349</td>\n",
       "      <td>6</td>\n",
       "      <td>6</td>\n",
       "    </tr>\n",
       "    <tr>\n",
       "      <th>2</th>\n",
       "      <td>32206</td>\n",
       "      <td>Volkswagen</td>\n",
       "      <td>CC</td>\n",
       "      <td>2013</td>\n",
       "      <td>Compact Cars</td>\n",
       "      <td>Front-Wheel Drive</td>\n",
       "      <td>Automatic (S6)</td>\n",
       "      <td>Premium Gasoline</td>\n",
       "      <td>6</td>\n",
       "      <td>3.6</td>\n",
       "      <td>94</td>\n",
       "      <td>0</td>\n",
       "      <td>17.4935</td>\n",
       "      <td>21.2000</td>\n",
       "      <td>26.5716</td>\n",
       "      <td>35.1000</td>\n",
       "      <td>20.6716</td>\n",
       "      <td>429</td>\n",
       "      <td>5</td>\n",
       "      <td>5</td>\n",
       "    </tr>\n",
       "    <tr>\n",
       "      <th>3</th>\n",
       "      <td>32207</td>\n",
       "      <td>Volkswagen</td>\n",
       "      <td>CC 4motion</td>\n",
       "      <td>2013</td>\n",
       "      <td>Compact Cars</td>\n",
       "      <td>All-Wheel Drive</td>\n",
       "      <td>Automatic (S6)</td>\n",
       "      <td>Premium Gasoline</td>\n",
       "      <td>6</td>\n",
       "      <td>3.6</td>\n",
       "      <td>94</td>\n",
       "      <td>0</td>\n",
       "      <td>16.9415</td>\n",
       "      <td>20.5000</td>\n",
       "      <td>25.2190</td>\n",
       "      <td>33.5000</td>\n",
       "      <td>19.8774</td>\n",
       "      <td>446</td>\n",
       "      <td>5</td>\n",
       "      <td>5</td>\n",
       "    </tr>\n",
       "    <tr>\n",
       "      <th>4</th>\n",
       "      <td>32208</td>\n",
       "      <td>Chevrolet</td>\n",
       "      <td>Malibu eAssist</td>\n",
       "      <td>2013</td>\n",
       "      <td>Midsize Cars</td>\n",
       "      <td>Front-Wheel Drive</td>\n",
       "      <td>Automatic (S6)</td>\n",
       "      <td>Regular Gasoline</td>\n",
       "      <td>4</td>\n",
       "      <td>2.4</td>\n",
       "      <td>0</td>\n",
       "      <td>95</td>\n",
       "      <td>24.7726</td>\n",
       "      <td>31.9796</td>\n",
       "      <td>35.5340</td>\n",
       "      <td>51.8816</td>\n",
       "      <td>28.6813</td>\n",
       "      <td>310</td>\n",
       "      <td>8</td>\n",
       "      <td>8</td>\n",
       "    </tr>\n",
       "  </tbody>\n",
       "</table>\n",
       "</div>"
      ],
      "text/plain": [
       "      id        make           model  year           VClass  \\\n",
       "0  32204      Nissan            GT-R  2013  Subcompact Cars   \n",
       "1  32205  Volkswagen              CC  2013     Compact Cars   \n",
       "2  32206  Volkswagen              CC  2013     Compact Cars   \n",
       "3  32207  Volkswagen      CC 4motion  2013     Compact Cars   \n",
       "4  32208   Chevrolet  Malibu eAssist  2013     Midsize Cars   \n",
       "\n",
       "               drive              trans          fuelType  cylinders  displ  \\\n",
       "0    All-Wheel Drive    Automatic (AM6)  Premium Gasoline          6    3.8   \n",
       "1  Front-Wheel Drive  Automatic (AM-S6)  Premium Gasoline          4    2.0   \n",
       "2  Front-Wheel Drive     Automatic (S6)  Premium Gasoline          6    3.6   \n",
       "3    All-Wheel Drive     Automatic (S6)  Premium Gasoline          6    3.6   \n",
       "4  Front-Wheel Drive     Automatic (S6)  Regular Gasoline          4    2.4   \n",
       "\n",
       "   pv2  pv4     city    UCity  highway  UHighway     comb  co2  feScore  \\\n",
       "0   79    0  16.4596  20.2988  22.5568   30.1798  18.7389  471        4   \n",
       "1   94    0  21.8706  26.9770  31.0367   42.4936  25.2227  349        6   \n",
       "2   94    0  17.4935  21.2000  26.5716   35.1000  20.6716  429        5   \n",
       "3   94    0  16.9415  20.5000  25.2190   33.5000  19.8774  446        5   \n",
       "4    0   95  24.7726  31.9796  35.5340   51.8816  28.6813  310        8   \n",
       "\n",
       "   ghgScore  \n",
       "0         4  \n",
       "1         6  \n",
       "2         5  \n",
       "3         5  \n",
       "4         8  "
      ]
     },
     "execution_count": 34,
     "metadata": {},
     "output_type": "execute_result"
    }
   ],
   "source": [
    "fuel_econ = pd.read_csv(file_name)\n",
    "fuel_econ.head(5)"
   ]
  },
  {
   "cell_type": "markdown",
   "metadata": {},
   "source": [
    "# 9. Clustered Bar Charts"
   ]
  },
  {
   "cell_type": "code",
   "execution_count": 35,
   "metadata": {},
   "outputs": [
    {
     "data": {
      "text/plain": [
       "array(['Subcompact Cars', 'Compact Cars', 'Midsize Cars', 'Large Cars',\n",
       "       'Minicompact Cars'], dtype=object)"
      ]
     },
     "execution_count": 35,
     "metadata": {},
     "output_type": "execute_result"
    }
   ],
   "source": [
    "fuel_econ.VClass.unique()"
   ]
  },
  {
   "cell_type": "code",
   "execution_count": 36,
   "metadata": {},
   "outputs": [
    {
     "data": {
      "text/plain": [
       "['Subcompact Cars', 'Compact Cars', 'Midsize Cars', 'Large Cars', 'Minicompact Cars']\n",
       "Categories (5, object): ['Minicompact Cars' < 'Subcompact Cars' < 'Compact Cars' < 'Midsize Cars' < 'Large Cars']"
      ]
     },
     "execution_count": 36,
     "metadata": {},
     "output_type": "execute_result"
    }
   ],
   "source": [
    "sedan_classes = ['Minicompact Cars','Subcompact Cars','Compact Cars','Midsize Cars','Large Cars']\n",
    "vclass = pd.api.types.CategoricalDtype(ordered=True,categories=sedan_classes)\n",
    "fuel_econ.VClass = fuel_econ.VClass.astype(vclass)\n",
    "fuel_econ.VClass.unique()"
   ]
  },
  {
   "cell_type": "code",
   "execution_count": 37,
   "metadata": {},
   "outputs": [
    {
     "data": {
      "text/plain": [
       "Automatic (S8)                      814\n",
       "Automatic (S6)                      739\n",
       "Manual 6-spd                        658\n",
       "Automatic (AM-S7)                   226\n",
       "Automatic 7-spd                     212\n",
       "Automatic (variable gear ratios)    178\n",
       "Automatic 8-spd                     138\n",
       "Automatic 6-spd                     126\n",
       "Manual 5-spd                        126\n",
       "Automatic (S7)                       98\n",
       "Automatic (AM-S6)                    91\n",
       "Manual 7-spd                         77\n",
       "Automatic (AM6)                      75\n",
       "Automatic (AM7)                      63\n",
       "Automatic 9-spd                      62\n",
       "Automatic (AV-S7)                    43\n",
       "Automatic (AV-S6)                    43\n",
       "Automatic 5-spd                      33\n",
       "Automatic (AM-S8)                    27\n",
       "Automatic 4-spd                      25\n",
       "Automatic (AV-S8)                    22\n",
       "Automatic (S9)                       14\n",
       "Automatic (S5)                       14\n",
       "Automatic (S10)                      13\n",
       "Automatic (A1)                        7\n",
       "Automatic (AV-S10)                    3\n",
       "Automatic (AM8)                       2\n",
       "Name: trans, dtype: int64"
      ]
     },
     "execution_count": 37,
     "metadata": {},
     "output_type": "execute_result"
    }
   ],
   "source": [
    "fuel_econ['trans'].value_counts()"
   ]
  },
  {
   "cell_type": "code",
   "execution_count": 39,
   "metadata": {},
   "outputs": [
    {
     "data": {
      "text/html": [
       "<div>\n",
       "<style scoped>\n",
       "    .dataframe tbody tr th:only-of-type {\n",
       "        vertical-align: middle;\n",
       "    }\n",
       "\n",
       "    .dataframe tbody tr th {\n",
       "        vertical-align: top;\n",
       "    }\n",
       "\n",
       "    .dataframe thead th {\n",
       "        text-align: right;\n",
       "    }\n",
       "</style>\n",
       "<table border=\"1\" class=\"dataframe\">\n",
       "  <thead>\n",
       "    <tr style=\"text-align: right;\">\n",
       "      <th></th>\n",
       "      <th>id</th>\n",
       "      <th>make</th>\n",
       "      <th>model</th>\n",
       "      <th>year</th>\n",
       "      <th>VClass</th>\n",
       "      <th>drive</th>\n",
       "      <th>trans</th>\n",
       "      <th>fuelType</th>\n",
       "      <th>cylinders</th>\n",
       "      <th>displ</th>\n",
       "      <th>...</th>\n",
       "      <th>pv4</th>\n",
       "      <th>city</th>\n",
       "      <th>UCity</th>\n",
       "      <th>highway</th>\n",
       "      <th>UHighway</th>\n",
       "      <th>comb</th>\n",
       "      <th>co2</th>\n",
       "      <th>feScore</th>\n",
       "      <th>ghgScore</th>\n",
       "      <th>trans_type</th>\n",
       "    </tr>\n",
       "  </thead>\n",
       "  <tbody>\n",
       "    <tr>\n",
       "      <th>0</th>\n",
       "      <td>32204</td>\n",
       "      <td>Nissan</td>\n",
       "      <td>GT-R</td>\n",
       "      <td>2013</td>\n",
       "      <td>Subcompact Cars</td>\n",
       "      <td>All-Wheel Drive</td>\n",
       "      <td>Automatic (AM6)</td>\n",
       "      <td>Premium Gasoline</td>\n",
       "      <td>6</td>\n",
       "      <td>3.8</td>\n",
       "      <td>...</td>\n",
       "      <td>0</td>\n",
       "      <td>16.4596</td>\n",
       "      <td>20.2988</td>\n",
       "      <td>22.5568</td>\n",
       "      <td>30.1798</td>\n",
       "      <td>18.7389</td>\n",
       "      <td>471</td>\n",
       "      <td>4</td>\n",
       "      <td>4</td>\n",
       "      <td>Automatic</td>\n",
       "    </tr>\n",
       "    <tr>\n",
       "      <th>1</th>\n",
       "      <td>32205</td>\n",
       "      <td>Volkswagen</td>\n",
       "      <td>CC</td>\n",
       "      <td>2013</td>\n",
       "      <td>Compact Cars</td>\n",
       "      <td>Front-Wheel Drive</td>\n",
       "      <td>Automatic (AM-S6)</td>\n",
       "      <td>Premium Gasoline</td>\n",
       "      <td>4</td>\n",
       "      <td>2.0</td>\n",
       "      <td>...</td>\n",
       "      <td>0</td>\n",
       "      <td>21.8706</td>\n",
       "      <td>26.9770</td>\n",
       "      <td>31.0367</td>\n",
       "      <td>42.4936</td>\n",
       "      <td>25.2227</td>\n",
       "      <td>349</td>\n",
       "      <td>6</td>\n",
       "      <td>6</td>\n",
       "      <td>Automatic</td>\n",
       "    </tr>\n",
       "    <tr>\n",
       "      <th>2</th>\n",
       "      <td>32206</td>\n",
       "      <td>Volkswagen</td>\n",
       "      <td>CC</td>\n",
       "      <td>2013</td>\n",
       "      <td>Compact Cars</td>\n",
       "      <td>Front-Wheel Drive</td>\n",
       "      <td>Automatic (S6)</td>\n",
       "      <td>Premium Gasoline</td>\n",
       "      <td>6</td>\n",
       "      <td>3.6</td>\n",
       "      <td>...</td>\n",
       "      <td>0</td>\n",
       "      <td>17.4935</td>\n",
       "      <td>21.2000</td>\n",
       "      <td>26.5716</td>\n",
       "      <td>35.1000</td>\n",
       "      <td>20.6716</td>\n",
       "      <td>429</td>\n",
       "      <td>5</td>\n",
       "      <td>5</td>\n",
       "      <td>Automatic</td>\n",
       "    </tr>\n",
       "    <tr>\n",
       "      <th>3</th>\n",
       "      <td>32207</td>\n",
       "      <td>Volkswagen</td>\n",
       "      <td>CC 4motion</td>\n",
       "      <td>2013</td>\n",
       "      <td>Compact Cars</td>\n",
       "      <td>All-Wheel Drive</td>\n",
       "      <td>Automatic (S6)</td>\n",
       "      <td>Premium Gasoline</td>\n",
       "      <td>6</td>\n",
       "      <td>3.6</td>\n",
       "      <td>...</td>\n",
       "      <td>0</td>\n",
       "      <td>16.9415</td>\n",
       "      <td>20.5000</td>\n",
       "      <td>25.2190</td>\n",
       "      <td>33.5000</td>\n",
       "      <td>19.8774</td>\n",
       "      <td>446</td>\n",
       "      <td>5</td>\n",
       "      <td>5</td>\n",
       "      <td>Automatic</td>\n",
       "    </tr>\n",
       "    <tr>\n",
       "      <th>4</th>\n",
       "      <td>32208</td>\n",
       "      <td>Chevrolet</td>\n",
       "      <td>Malibu eAssist</td>\n",
       "      <td>2013</td>\n",
       "      <td>Midsize Cars</td>\n",
       "      <td>Front-Wheel Drive</td>\n",
       "      <td>Automatic (S6)</td>\n",
       "      <td>Regular Gasoline</td>\n",
       "      <td>4</td>\n",
       "      <td>2.4</td>\n",
       "      <td>...</td>\n",
       "      <td>95</td>\n",
       "      <td>24.7726</td>\n",
       "      <td>31.9796</td>\n",
       "      <td>35.5340</td>\n",
       "      <td>51.8816</td>\n",
       "      <td>28.6813</td>\n",
       "      <td>310</td>\n",
       "      <td>8</td>\n",
       "      <td>8</td>\n",
       "      <td>Automatic</td>\n",
       "    </tr>\n",
       "  </tbody>\n",
       "</table>\n",
       "<p>5 rows × 21 columns</p>\n",
       "</div>"
      ],
      "text/plain": [
       "      id        make           model  year           VClass  \\\n",
       "0  32204      Nissan            GT-R  2013  Subcompact Cars   \n",
       "1  32205  Volkswagen              CC  2013     Compact Cars   \n",
       "2  32206  Volkswagen              CC  2013     Compact Cars   \n",
       "3  32207  Volkswagen      CC 4motion  2013     Compact Cars   \n",
       "4  32208   Chevrolet  Malibu eAssist  2013     Midsize Cars   \n",
       "\n",
       "               drive              trans          fuelType  cylinders  displ  \\\n",
       "0    All-Wheel Drive    Automatic (AM6)  Premium Gasoline          6    3.8   \n",
       "1  Front-Wheel Drive  Automatic (AM-S6)  Premium Gasoline          4    2.0   \n",
       "2  Front-Wheel Drive     Automatic (S6)  Premium Gasoline          6    3.6   \n",
       "3    All-Wheel Drive     Automatic (S6)  Premium Gasoline          6    3.6   \n",
       "4  Front-Wheel Drive     Automatic (S6)  Regular Gasoline          4    2.4   \n",
       "\n",
       "   ...  pv4     city    UCity  highway  UHighway     comb  co2  feScore  \\\n",
       "0  ...    0  16.4596  20.2988  22.5568   30.1798  18.7389  471        4   \n",
       "1  ...    0  21.8706  26.9770  31.0367   42.4936  25.2227  349        6   \n",
       "2  ...    0  17.4935  21.2000  26.5716   35.1000  20.6716  429        5   \n",
       "3  ...    0  16.9415  20.5000  25.2190   33.5000  19.8774  446        5   \n",
       "4  ...   95  24.7726  31.9796  35.5340   51.8816  28.6813  310        8   \n",
       "\n",
       "   ghgScore  trans_type  \n",
       "0         4   Automatic  \n",
       "1         6   Automatic  \n",
       "2         5   Automatic  \n",
       "3         5   Automatic  \n",
       "4         8   Automatic  \n",
       "\n",
       "[5 rows x 21 columns]"
      ]
     },
     "execution_count": 39,
     "metadata": {},
     "output_type": "execute_result"
    }
   ],
   "source": [
    "fuel_econ['trans_type'] = fuel_econ.trans.apply(lambda x: x.split()[0])\n",
    "fuel_econ.head(5)"
   ]
  },
  {
   "cell_type": "code",
   "execution_count": 43,
   "metadata": {},
   "outputs": [
    {
     "data": {
      "image/png": "[encoded data removed]",
      "text/plain": [
       "<Figure size 432x288 with 1 Axes>"
      ]
     },
     "metadata": {
      "needs_background": "light"
     },
     "output_type": "display_data"
    }
   ],
   "source": [
    "sb.countplot(data=fuel_econ,x='VClass',hue='trans_type');\n",
    "plt.xticks(rotation=15);"
   ]
  },
  {
   "cell_type": "code",
   "execution_count": 50,
   "metadata": {},
   "outputs": [],
   "source": [
    "ct_counts = fuel_econ.groupby(['VClass','trans_type']).size()\n",
    "ct_counts = ct_counts.reset_index(name='count')"
   ]
  },
  {
   "cell_type": "code",
   "execution_count": 56,
   "metadata": {},
   "outputs": [
    {
     "data": {
      "text/html": [
       "<div>\n",
       "<style scoped>\n",
       "    .dataframe tbody tr th:only-of-type {\n",
       "        vertical-align: middle;\n",
       "    }\n",
       "\n",
       "    .dataframe tbody tr th {\n",
       "        vertical-align: top;\n",
       "    }\n",
       "\n",
       "    .dataframe thead th {\n",
       "        text-align: right;\n",
       "    }\n",
       "</style>\n",
       "<table border=\"1\" class=\"dataframe\">\n",
       "  <thead>\n",
       "    <tr style=\"text-align: right;\">\n",
       "      <th></th>\n",
       "      <th>VClass</th>\n",
       "      <th>trans_type</th>\n",
       "      <th>count</th>\n",
       "    </tr>\n",
       "  </thead>\n",
       "  <tbody>\n",
       "    <tr>\n",
       "      <th>0</th>\n",
       "      <td>Minicompact Cars</td>\n",
       "      <td>Automatic</td>\n",
       "      <td>188</td>\n",
       "    </tr>\n",
       "    <tr>\n",
       "      <th>1</th>\n",
       "      <td>Minicompact Cars</td>\n",
       "      <td>Manual</td>\n",
       "      <td>133</td>\n",
       "    </tr>\n",
       "    <tr>\n",
       "      <th>2</th>\n",
       "      <td>Subcompact Cars</td>\n",
       "      <td>Automatic</td>\n",
       "      <td>502</td>\n",
       "    </tr>\n",
       "    <tr>\n",
       "      <th>3</th>\n",
       "      <td>Subcompact Cars</td>\n",
       "      <td>Manual</td>\n",
       "      <td>171</td>\n",
       "    </tr>\n",
       "    <tr>\n",
       "      <th>4</th>\n",
       "      <td>Compact Cars</td>\n",
       "      <td>Automatic</td>\n",
       "      <td>784</td>\n",
       "    </tr>\n",
       "    <tr>\n",
       "      <th>5</th>\n",
       "      <td>Compact Cars</td>\n",
       "      <td>Manual</td>\n",
       "      <td>338</td>\n",
       "    </tr>\n",
       "    <tr>\n",
       "      <th>6</th>\n",
       "      <td>Midsize Cars</td>\n",
       "      <td>Automatic</td>\n",
       "      <td>989</td>\n",
       "    </tr>\n",
       "    <tr>\n",
       "      <th>7</th>\n",
       "      <td>Midsize Cars</td>\n",
       "      <td>Manual</td>\n",
       "      <td>199</td>\n",
       "    </tr>\n",
       "    <tr>\n",
       "      <th>8</th>\n",
       "      <td>Large Cars</td>\n",
       "      <td>Automatic</td>\n",
       "      <td>605</td>\n",
       "    </tr>\n",
       "    <tr>\n",
       "      <th>9</th>\n",
       "      <td>Large Cars</td>\n",
       "      <td>Manual</td>\n",
       "      <td>20</td>\n",
       "    </tr>\n",
       "  </tbody>\n",
       "</table>\n",
       "</div>"
      ],
      "text/plain": [
       "             VClass trans_type  count\n",
       "0  Minicompact Cars  Automatic    188\n",
       "1  Minicompact Cars     Manual    133\n",
       "2   Subcompact Cars  Automatic    502\n",
       "3   Subcompact Cars     Manual    171\n",
       "4      Compact Cars  Automatic    784\n",
       "5      Compact Cars     Manual    338\n",
       "6      Midsize Cars  Automatic    989\n",
       "7      Midsize Cars     Manual    199\n",
       "8        Large Cars  Automatic    605\n",
       "9        Large Cars     Manual     20"
      ]
     },
     "execution_count": 56,
     "metadata": {},
     "output_type": "execute_result"
    }
   ],
   "source": [
    "ct_counts"
   ]
  },
  {
   "cell_type": "code",
   "execution_count": 63,
   "metadata": {},
   "outputs": [
    {
     "ename": "TypeError",
     "evalue": "pivot() got an unexpected keyword argument 'fmt'",
     "output_type": "error",
     "traceback": [
      "\u001b[0;31m---------------------------------------------------------------------------\u001b[0m",
      "\u001b[0;31mTypeError\u001b[0m                                 Traceback (most recent call last)",
      "\u001b[0;32m<ipython-input-63-015cb1def34d>\u001b[0m in \u001b[0;36m<module>\u001b[0;34m\u001b[0m\n\u001b[0;32m----> 1\u001b[0;31m \u001b[0mct_counts\u001b[0m \u001b[0;34m=\u001b[0m \u001b[0mct_counts\u001b[0m\u001b[0;34m.\u001b[0m\u001b[0mpivot\u001b[0m\u001b[0;34m(\u001b[0m\u001b[0mindex\u001b[0m\u001b[0;34m=\u001b[0m\u001b[0;34m'VClass'\u001b[0m\u001b[0;34m,\u001b[0m\u001b[0mcolumns\u001b[0m\u001b[0;34m=\u001b[0m\u001b[0;34m'trans_type'\u001b[0m\u001b[0;34m,\u001b[0m\u001b[0mvalues\u001b[0m\u001b[0;34m=\u001b[0m\u001b[0;34m'count'\u001b[0m\u001b[0;34m,\u001b[0m\u001b[0mfmt\u001b[0m\u001b[0;34m=\u001b[0m\u001b[0;34m'd'\u001b[0m\u001b[0;34m)\u001b[0m\u001b[0;34m\u001b[0m\u001b[0;34m\u001b[0m\u001b[0m\n\u001b[0m",
      "\u001b[0;31mTypeError\u001b[0m: pivot() got an unexpected keyword argument 'fmt'"
     ]
    }
   ],
   "source": [
    "ct_counts = ct_counts.pivot(index='VClass',columns='trans_type',values='count')"
   ]
  },
  {
   "cell_type": "code",
   "execution_count": 60,
   "metadata": {},
   "outputs": [
    {
     "data": {
      "text/html": [
       "<div>\n",
       "<style scoped>\n",
       "    .dataframe tbody tr th:only-of-type {\n",
       "        vertical-align: middle;\n",
       "    }\n",
       "\n",
       "    .dataframe tbody tr th {\n",
       "        vertical-align: top;\n",
       "    }\n",
       "\n",
       "    .dataframe thead th {\n",
       "        text-align: right;\n",
       "    }\n",
       "</style>\n",
       "<table border=\"1\" class=\"dataframe\">\n",
       "  <thead>\n",
       "    <tr style=\"text-align: right;\">\n",
       "      <th>trans_type</th>\n",
       "      <th>Automatic</th>\n",
       "      <th>Manual</th>\n",
       "    </tr>\n",
       "    <tr>\n",
       "      <th>VClass</th>\n",
       "      <th></th>\n",
       "      <th></th>\n",
       "    </tr>\n",
       "  </thead>\n",
       "  <tbody>\n",
       "    <tr>\n",
       "      <th>Minicompact Cars</th>\n",
       "      <td>188</td>\n",
       "      <td>133</td>\n",
       "    </tr>\n",
       "    <tr>\n",
       "      <th>Subcompact Cars</th>\n",
       "      <td>502</td>\n",
       "      <td>171</td>\n",
       "    </tr>\n",
       "    <tr>\n",
       "      <th>Compact Cars</th>\n",
       "      <td>784</td>\n",
       "      <td>338</td>\n",
       "    </tr>\n",
       "    <tr>\n",
       "      <th>Midsize Cars</th>\n",
       "      <td>989</td>\n",
       "      <td>199</td>\n",
       "    </tr>\n",
       "    <tr>\n",
       "      <th>Large Cars</th>\n",
       "      <td>605</td>\n",
       "      <td>20</td>\n",
       "    </tr>\n",
       "  </tbody>\n",
       "</table>\n",
       "</div>"
      ],
      "text/plain": [
       "trans_type        Automatic  Manual\n",
       "VClass                             \n",
       "Minicompact Cars        188     133\n",
       "Subcompact Cars         502     171\n",
       "Compact Cars            784     338\n",
       "Midsize Cars            989     199\n",
       "Large Cars              605      20"
      ]
     },
     "execution_count": 60,
     "metadata": {},
     "output_type": "execute_result"
    }
   ],
   "source": [
    "ct_counts"
   ]
  },
  {
   "cell_type": "code",
   "execution_count": 64,
   "metadata": {},
   "outputs": [
    {
     "data": {
      "image/png": "[encoded data removed]",
      "text/plain": [
       "<Figure size 432x288 with 2 Axes>"
      ]
     },
     "metadata": {
      "needs_background": "light"
     },
     "output_type": "display_data"
    }
   ],
   "source": [
    "sb.heatmap(ct_counts,annot=True,fmt='d');"
   ]
  },
  {
   "cell_type": "markdown",
   "metadata": {},
   "source": [
    "# 11. Faceting"
   ]
  },
  {
   "cell_type": "code",
   "execution_count": 81,
   "metadata": {},
   "outputs": [
    {
     "data": {
      "image/png": "[encoded data removed]",
      "text/plain": [
       "<Figure size 648x432 with 5 Axes>"
      ]
     },
     "metadata": {
      "needs_background": "light"
     },
     "output_type": "display_data"
    }
   ],
   "source": [
    "bin_edges = np.arange(12,58+2,2)\n",
    "g = sb.FacetGrid(data=fuel_econ,col='VClass',col_wrap=3,sharey=False);\n",
    "g.map(plt.hist,'comb',bins=bin_edges);"
   ]
  },
  {
   "cell_type": "code",
   "execution_count": 104,
   "metadata": {},
   "outputs": [],
   "source": [
    "group_means = fuel_econ[['trans','comb']].groupby('trans').mean()\n",
    "group_order = group_means.sort_values(['comb'],ascending=False)"
   ]
  },
  {
   "cell_type": "code",
   "execution_count": 89,
   "metadata": {},
   "outputs": [
    {
     "data": {
      "text/plain": [
       "Index(['Automatic (variable gear ratios)', 'Automatic (A1)', 'Automatic (AM6)',\n",
       "       'Automatic (AV-S6)', 'Automatic (AV-S7)', 'Manual 5-spd',\n",
       "       'Automatic 4-spd', 'Automatic (AM8)', 'Automatic (AV-S10)',\n",
       "       'Automatic (AM-S6)', 'Automatic (AV-S8)', 'Manual 6-spd',\n",
       "       'Automatic (S6)', 'Automatic 6-spd', 'Automatic (S5)', 'Automatic (S9)',\n",
       "       'Automatic (AM-S8)', 'Automatic (AM7)', 'Automatic 9-spd',\n",
       "       'Automatic (S7)', 'Automatic (S8)', 'Manual 7-spd', 'Automatic (AM-S7)',\n",
       "       'Automatic (S10)', 'Automatic 7-spd', 'Automatic 8-spd',\n",
       "       'Automatic 5-spd'],\n",
       "      dtype='object', name='trans')"
      ]
     },
     "execution_count": 89,
     "metadata": {},
     "output_type": "execute_result"
    }
   ],
   "source": [
    "group_order"
   ]
  },
  {
   "cell_type": "code",
   "execution_count": 90,
   "metadata": {},
   "outputs": [
    {
     "data": {
      "text/plain": [
       "<seaborn.axisgrid.FacetGrid at 0x7fc94aa9dfa0>"
      ]
     },
     "execution_count": 90,
     "metadata": {},
     "output_type": "execute_result"
    },
    {
     "data": {
      "image/png": "[encoded data removed]",
      "text/plain": [
       "<Figure size 1512x864 with 27 Axes>"
      ]
     },
     "metadata": {
      "needs_background": "light"
     },
     "output_type": "display_data"
    }
   ],
   "source": [
    "g = sb.FacetGrid(data=fuel_econ,col='trans',col_wrap=7,col_order=group_order);\n",
    "g.map(plt.hist,'comb');"
   ]
  },
  {
   "cell_type": "markdown",
   "metadata": {},
   "source": [
    "# 12. Adaptation of Univariate Plots"
   ]
  },
  {
   "cell_type": "code",
   "execution_count": 91,
   "metadata": {},
   "outputs": [
    {
     "data": {
      "image/png": "[encoded data removed]",
      "text/plain": [
       "<Figure size 432x288 with 1 Axes>"
      ]
     },
     "metadata": {
      "needs_background": "light"
     },
     "output_type": "display_data"
    }
   ],
   "source": [
    "base_color = sb.color_palette()[0]\n",
    "sb.barplot(data=fuel_econ,x='VClass',y='comb',color=base_color);\n",
    "plt.xticks(rotation=15);\n",
    "plt.ylabel('Avg. Combined Fuel Efficiency (mpg)');"
   ]
  },
  {
   "cell_type": "code",
   "execution_count": 92,
   "metadata": {},
   "outputs": [
    {
     "data": {
      "image/png": "[encoded data removed]",
      "text/plain": [
       "<Figure size 432x288 with 1 Axes>"
      ]
     },
     "metadata": {
      "needs_background": "light"
     },
     "output_type": "display_data"
    }
   ],
   "source": [
    "base_color = sb.color_palette()[0]\n",
    "sb.barplot(data=fuel_econ,x='VClass',y='comb',color=base_color,errwidth=0);\n",
    "plt.xticks(rotation=15);\n",
    "plt.ylabel('Avg. Combined Fuel Efficiency (mpg)');"
   ]
  },
  {
   "cell_type": "code",
   "execution_count": 93,
   "metadata": {},
   "outputs": [
    {
     "data": {
      "image/png": "[encoded data removed]",
      "text/plain": [
       "<Figure size 432x288 with 1 Axes>"
      ]
     },
     "metadata": {
      "needs_background": "light"
     },
     "output_type": "display_data"
    }
   ],
   "source": [
    "base_color = sb.color_palette()[0]\n",
    "sb.barplot(data=fuel_econ,x='VClass',y='comb',color=base_color,ci='sd');\n",
    "plt.xticks(rotation=15);\n",
    "plt.ylabel('Avg. Combined Fuel Efficiency (mpg)');"
   ]
  },
  {
   "cell_type": "code",
   "execution_count": 94,
   "metadata": {},
   "outputs": [
    {
     "data": {
      "image/png": "[encoded data removed]",
      "text/plain": [
       "<Figure size 432x288 with 1 Axes>"
      ]
     },
     "metadata": {
      "needs_background": "light"
     },
     "output_type": "display_data"
    }
   ],
   "source": [
    "sb.pointplot(data=fuel_econ,x='VClass',y='comb',color=base_color,ci='sd',linestyles='');\n",
    "plt.xticks(rotation=15);\n",
    "plt.ylabel('Avg. Combined Fuel Efficiency (mpg)');"
   ]
  },
  {
   "cell_type": "code",
   "execution_count": 95,
   "metadata": {},
   "outputs": [
    {
     "data": {
      "image/png": "[encoded data removed]",
      "text/plain": [
       "<Figure size 1440x360 with 3 Axes>"
      ]
     },
     "metadata": {
      "needs_background": "light"
     },
     "output_type": "display_data"
    }
   ],
   "source": [
    "plt.figure(figsize=[20,5])\n",
    "\n",
    "plt.subplot(1,3,1)\n",
    "sb.violinplot(data=fuel_econ,x='VClass',y='comb',inner=None,color=base_color);\n",
    "plt.xticks(rotation=15);\n",
    "\n",
    "plt.subplot(1,3,2)\n",
    "sb.boxplot(data=fuel_econ,x='VClass',y='comb',color=base_color);\n",
    "plt.xticks(rotation=15);\n",
    "\n",
    "plt.subplot(1,3,3)\n",
    "sb.barplot(data=fuel_econ,x='VClass',y='comb',color=base_color);\n",
    "plt.xticks(rotation=15);"
   ]
  },
  {
   "cell_type": "markdown",
   "metadata": {},
   "source": [
    "# 13. Line Plots"
   ]
  },
  {
   "cell_type": "code",
   "execution_count": 96,
   "metadata": {},
   "outputs": [
    {
     "data": {
      "image/png": "[encoded data removed]",
      "text/plain": [
       "<Figure size 432x288 with 1 Axes>"
      ]
     },
     "metadata": {
      "needs_background": "light"
     },
     "output_type": "display_data"
    }
   ],
   "source": [
    "plt.errorbar(data=fuel_econ,x='displ',y='comb');\n",
    "plt.xticks(rotation=15);\n",
    "plt.ylabel('Avg. Combined Fuel Efficiency (mpg)');"
   ]
  },
  {
   "cell_type": "code",
   "execution_count": 99,
   "metadata": {},
   "outputs": [
    {
     "data": {
      "text/plain": [
       "0       (3.6, 3.8]\n",
       "1       (1.8, 2.0]\n",
       "2       (3.4, 3.6]\n",
       "3       (3.4, 3.6]\n",
       "4       (2.2, 2.4]\n",
       "           ...    \n",
       "3924    (1.6, 1.8]\n",
       "3925    (1.8, 2.0]\n",
       "3926    (1.8, 2.0]\n",
       "3927    (3.2, 3.4]\n",
       "3928    (3.2, 3.4]\n",
       "Name: displ, Length: 3929, dtype: category\n",
       "Categories (32, interval[float64]): [(0.599, 0.8] < (0.8, 1.0] < (1.0, 1.2] < (1.2, 1.4] ... (6.2, 6.4] < (6.4, 6.6] < (6.6, 6.8] < (6.8, 7.0]]"
      ]
     },
     "execution_count": 99,
     "metadata": {},
     "output_type": "execute_result"
    }
   ],
   "source": [
    "bin_edges = np.arange(0.6,7+0.2,0.2)\n",
    "bin_centers = bin_edges[:-1]+0.1\n",
    "\n",
    "displ_binned = pd.cut(x=fuel_econ['displ'],bins=bin_edges,include_lowest=True)\n",
    "displ_binned"
   ]
  },
  {
   "cell_type": "code",
   "execution_count": 100,
   "metadata": {},
   "outputs": [
    {
     "data": {
      "image/png": "[encoded data removed]",
      "text/plain": [
       "<Figure size 432x288 with 1 Axes>"
      ]
     },
     "metadata": {
      "needs_background": "light"
     },
     "output_type": "display_data"
    }
   ],
   "source": [
    "comb_mean = fuel_econ['comb'].groupby(displ_binned).mean()\n",
    "comb_std = fuel_econ['comb'].groupby(displ_binned).std()\n",
    "\n",
    "plt.errorbar(x=bin_centers,y=comb_mean,yerr=comb_std);\n",
    "plt.xticks(rotation=15);\n",
    "plt.ylabel('Avg. Combined Fuel Efficiency (mpg)');"
   ]
  },
  {
   "cell_type": "markdown",
   "metadata": {},
   "source": [
    "# 14. Addtional Plot Practice"
   ]
  },
  {
   "cell_type": "code",
   "execution_count": 105,
   "metadata": {},
   "outputs": [],
   "source": [
    "make_counts = fuel_econ.groupby('make').size()\n",
    "make_counts_sorted = make_counts.sort_values(ascending=False)"
   ]
  },
  {
   "cell_type": "code",
   "execution_count": 106,
   "metadata": {},
   "outputs": [],
   "source": [
    "make_counts_sorted = make_counts_sorted.reset_index(name='count')"
   ]
  },
  {
   "cell_type": "code",
   "execution_count": 107,
   "metadata": {},
   "outputs": [],
   "source": [
    "make_counts_top = make_counts_sorted[make_counts_sorted['count'] > 80]\n",
    "top_names = make_counts_top.set_index('make').index"
   ]
  },
  {
   "cell_type": "code",
   "execution_count": 108,
   "metadata": {},
   "outputs": [],
   "source": [
    "top_makes = top_names.tolist()"
   ]
  },
  {
   "cell_type": "code",
   "execution_count": 109,
   "metadata": {},
   "outputs": [
    {
     "data": {
      "text/html": [
       "<div>\n",
       "<style scoped>\n",
       "    .dataframe tbody tr th:only-of-type {\n",
       "        vertical-align: middle;\n",
       "    }\n",
       "\n",
       "    .dataframe tbody tr th {\n",
       "        vertical-align: top;\n",
       "    }\n",
       "\n",
       "    .dataframe thead th {\n",
       "        text-align: right;\n",
       "    }\n",
       "</style>\n",
       "<table border=\"1\" class=\"dataframe\">\n",
       "  <thead>\n",
       "    <tr style=\"text-align: right;\">\n",
       "      <th></th>\n",
       "      <th>make</th>\n",
       "      <th>count</th>\n",
       "    </tr>\n",
       "  </thead>\n",
       "  <tbody>\n",
       "    <tr>\n",
       "      <th>0</th>\n",
       "      <td>BMW</td>\n",
       "      <td>523</td>\n",
       "    </tr>\n",
       "    <tr>\n",
       "      <th>1</th>\n",
       "      <td>Mercedes-Benz</td>\n",
       "      <td>269</td>\n",
       "    </tr>\n",
       "    <tr>\n",
       "      <th>2</th>\n",
       "      <td>Porsche</td>\n",
       "      <td>235</td>\n",
       "    </tr>\n",
       "    <tr>\n",
       "      <th>3</th>\n",
       "      <td>Ford</td>\n",
       "      <td>218</td>\n",
       "    </tr>\n",
       "    <tr>\n",
       "      <th>4</th>\n",
       "      <td>Chevrolet</td>\n",
       "      <td>212</td>\n",
       "    </tr>\n",
       "    <tr>\n",
       "      <th>5</th>\n",
       "      <td>Audi</td>\n",
       "      <td>201</td>\n",
       "    </tr>\n",
       "    <tr>\n",
       "      <th>6</th>\n",
       "      <td>MINI</td>\n",
       "      <td>201</td>\n",
       "    </tr>\n",
       "    <tr>\n",
       "      <th>7</th>\n",
       "      <td>Volkswagen</td>\n",
       "      <td>174</td>\n",
       "    </tr>\n",
       "    <tr>\n",
       "      <th>8</th>\n",
       "      <td>Hyundai</td>\n",
       "      <td>158</td>\n",
       "    </tr>\n",
       "    <tr>\n",
       "      <th>9</th>\n",
       "      <td>Dodge</td>\n",
       "      <td>140</td>\n",
       "    </tr>\n",
       "    <tr>\n",
       "      <th>10</th>\n",
       "      <td>Lexus</td>\n",
       "      <td>125</td>\n",
       "    </tr>\n",
       "    <tr>\n",
       "      <th>11</th>\n",
       "      <td>Kia</td>\n",
       "      <td>124</td>\n",
       "    </tr>\n",
       "    <tr>\n",
       "      <th>12</th>\n",
       "      <td>Cadillac</td>\n",
       "      <td>118</td>\n",
       "    </tr>\n",
       "    <tr>\n",
       "      <th>13</th>\n",
       "      <td>Toyota</td>\n",
       "      <td>116</td>\n",
       "    </tr>\n",
       "    <tr>\n",
       "      <th>14</th>\n",
       "      <td>Infiniti</td>\n",
       "      <td>108</td>\n",
       "    </tr>\n",
       "    <tr>\n",
       "      <th>15</th>\n",
       "      <td>Honda</td>\n",
       "      <td>101</td>\n",
       "    </tr>\n",
       "    <tr>\n",
       "      <th>16</th>\n",
       "      <td>Jaguar</td>\n",
       "      <td>98</td>\n",
       "    </tr>\n",
       "    <tr>\n",
       "      <th>17</th>\n",
       "      <td>Mazda</td>\n",
       "      <td>87</td>\n",
       "    </tr>\n",
       "  </tbody>\n",
       "</table>\n",
       "</div>"
      ],
      "text/plain": [
       "             make  count\n",
       "0             BMW    523\n",
       "1   Mercedes-Benz    269\n",
       "2         Porsche    235\n",
       "3            Ford    218\n",
       "4       Chevrolet    212\n",
       "5            Audi    201\n",
       "6            MINI    201\n",
       "7      Volkswagen    174\n",
       "8         Hyundai    158\n",
       "9           Dodge    140\n",
       "10          Lexus    125\n",
       "11            Kia    124\n",
       "12       Cadillac    118\n",
       "13         Toyota    116\n",
       "14       Infiniti    108\n",
       "15          Honda    101\n",
       "16         Jaguar     98\n",
       "17          Mazda     87"
      ]
     },
     "execution_count": 109,
     "metadata": {},
     "output_type": "execute_result"
    }
   ],
   "source": [
    "make_counts_top"
   ]
  },
  {
   "cell_type": "code",
   "execution_count": 110,
   "metadata": {},
   "outputs": [
    {
     "data": {
      "text/plain": [
       "['BMW',\n",
       " 'Mercedes-Benz',\n",
       " 'Porsche',\n",
       " 'Ford',\n",
       " 'Chevrolet',\n",
       " 'Audi',\n",
       " 'MINI',\n",
       " 'Volkswagen',\n",
       " 'Hyundai',\n",
       " 'Dodge',\n",
       " 'Lexus',\n",
       " 'Kia',\n",
       " 'Cadillac',\n",
       " 'Toyota',\n",
       " 'Infiniti',\n",
       " 'Honda',\n",
       " 'Jaguar',\n",
       " 'Mazda']"
      ]
     },
     "execution_count": 110,
     "metadata": {},
     "output_type": "execute_result"
    }
   ],
   "source": [
    "top_makes"
   ]
  },
  {
   "cell_type": "code",
   "execution_count": 111,
   "metadata": {},
   "outputs": [],
   "source": [
    "fuel_econ_sub = fuel_econ[fuel_econ['make'].isin(top_makes)]"
   ]
  },
  {
   "cell_type": "code",
   "execution_count": 112,
   "metadata": {},
   "outputs": [
    {
     "data": {
      "image/png": "[encoded data removed]",
      "text/plain": [
       "<Figure size 1296x648 with 18 Axes>"
      ]
     },
     "metadata": {
      "needs_background": "light"
     },
     "output_type": "display_data"
    }
   ],
   "source": [
    "g = sb.FacetGrid(data=fuel_econ_sub,col='make',col_wrap=6)\n",
    "g.map(plt.hist,'comb',bins = np.arange(12, fuel_econ_sub['comb'].max()+2, 2));"
   ]
  },
  {
   "cell_type": "code",
   "execution_count": 113,
   "metadata": {},
   "outputs": [
    {
     "data": {
      "text/html": [
       "<div>\n",
       "<style scoped>\n",
       "    .dataframe tbody tr th:only-of-type {\n",
       "        vertical-align: middle;\n",
       "    }\n",
       "\n",
       "    .dataframe tbody tr th {\n",
       "        vertical-align: top;\n",
       "    }\n",
       "\n",
       "    .dataframe thead th {\n",
       "        text-align: right;\n",
       "    }\n",
       "</style>\n",
       "<table border=\"1\" class=\"dataframe\">\n",
       "  <thead>\n",
       "    <tr style=\"text-align: right;\">\n",
       "      <th></th>\n",
       "      <th>id</th>\n",
       "      <th>year</th>\n",
       "      <th>cylinders</th>\n",
       "      <th>displ</th>\n",
       "      <th>pv2</th>\n",
       "      <th>pv4</th>\n",
       "      <th>city</th>\n",
       "      <th>UCity</th>\n",
       "      <th>highway</th>\n",
       "      <th>UHighway</th>\n",
       "      <th>comb</th>\n",
       "      <th>co2</th>\n",
       "      <th>feScore</th>\n",
       "      <th>ghgScore</th>\n",
       "    </tr>\n",
       "    <tr>\n",
       "      <th>make</th>\n",
       "      <th></th>\n",
       "      <th></th>\n",
       "      <th></th>\n",
       "      <th></th>\n",
       "      <th></th>\n",
       "      <th></th>\n",
       "      <th></th>\n",
       "      <th></th>\n",
       "      <th></th>\n",
       "      <th></th>\n",
       "      <th></th>\n",
       "      <th></th>\n",
       "      <th></th>\n",
       "      <th></th>\n",
       "    </tr>\n",
       "  </thead>\n",
       "  <tbody>\n",
       "    <tr>\n",
       "      <th>Audi</th>\n",
       "      <td>35835.398010</td>\n",
       "      <td>2015.532338</td>\n",
       "      <td>5.512438</td>\n",
       "      <td>2.751741</td>\n",
       "      <td>25.781095</td>\n",
       "      <td>48.786070</td>\n",
       "      <td>20.426925</td>\n",
       "      <td>25.652045</td>\n",
       "      <td>29.389482</td>\n",
       "      <td>40.513205</td>\n",
       "      <td>23.639240</td>\n",
       "      <td>384.676617</td>\n",
       "      <td>5.432836</td>\n",
       "      <td>5.402985</td>\n",
       "    </tr>\n",
       "    <tr>\n",
       "      <th>BMW</th>\n",
       "      <td>35953.648184</td>\n",
       "      <td>2015.493308</td>\n",
       "      <td>5.973231</td>\n",
       "      <td>3.083748</td>\n",
       "      <td>35.441683</td>\n",
       "      <td>55.269598</td>\n",
       "      <td>19.862614</td>\n",
       "      <td>25.157074</td>\n",
       "      <td>28.649093</td>\n",
       "      <td>40.927519</td>\n",
       "      <td>23.004798</td>\n",
       "      <td>394.885277</td>\n",
       "      <td>5.221797</td>\n",
       "      <td>5.214149</td>\n",
       "    </tr>\n",
       "    <tr>\n",
       "      <th>Cadillac</th>\n",
       "      <td>36052.110169</td>\n",
       "      <td>2015.584746</td>\n",
       "      <td>5.474576</td>\n",
       "      <td>3.243220</td>\n",
       "      <td>24.398305</td>\n",
       "      <td>93.983051</td>\n",
       "      <td>18.845043</td>\n",
       "      <td>24.039474</td>\n",
       "      <td>26.939762</td>\n",
       "      <td>38.256114</td>\n",
       "      <td>21.773203</td>\n",
       "      <td>408.686441</td>\n",
       "      <td>4.915254</td>\n",
       "      <td>4.932203</td>\n",
       "    </tr>\n",
       "    <tr>\n",
       "      <th>Chevrolet</th>\n",
       "      <td>35903.301887</td>\n",
       "      <td>2015.476415</td>\n",
       "      <td>4.886792</td>\n",
       "      <td>2.599528</td>\n",
       "      <td>19.740566</td>\n",
       "      <td>67.037736</td>\n",
       "      <td>23.955976</td>\n",
       "      <td>31.080558</td>\n",
       "      <td>33.017294</td>\n",
       "      <td>47.937314</td>\n",
       "      <td>27.224809</td>\n",
       "      <td>343.957547</td>\n",
       "      <td>6.386792</td>\n",
       "      <td>6.353774</td>\n",
       "    </tr>\n",
       "    <tr>\n",
       "      <th>Dodge</th>\n",
       "      <td>35907.100000</td>\n",
       "      <td>2015.278571</td>\n",
       "      <td>6.285714</td>\n",
       "      <td>4.225714</td>\n",
       "      <td>32.228571</td>\n",
       "      <td>41.035714</td>\n",
       "      <td>18.516134</td>\n",
       "      <td>23.345414</td>\n",
       "      <td>27.948863</td>\n",
       "      <td>39.730484</td>\n",
       "      <td>21.812190</td>\n",
       "      <td>424.164286</td>\n",
       "      <td>4.878571</td>\n",
       "      <td>4.878571</td>\n",
       "    </tr>\n",
       "    <tr>\n",
       "      <th>Ford</th>\n",
       "      <td>36168.706422</td>\n",
       "      <td>2015.559633</td>\n",
       "      <td>4.770642</td>\n",
       "      <td>2.560092</td>\n",
       "      <td>19.977064</td>\n",
       "      <td>67.908257</td>\n",
       "      <td>24.015862</td>\n",
       "      <td>31.406761</td>\n",
       "      <td>31.864245</td>\n",
       "      <td>46.266219</td>\n",
       "      <td>26.796018</td>\n",
       "      <td>345.027523</td>\n",
       "      <td>6.261468</td>\n",
       "      <td>6.261468</td>\n",
       "    </tr>\n",
       "    <tr>\n",
       "      <th>Honda</th>\n",
       "      <td>36679.217822</td>\n",
       "      <td>2015.762376</td>\n",
       "      <td>4.297030</td>\n",
       "      <td>2.095050</td>\n",
       "      <td>48.108911</td>\n",
       "      <td>79.445545</td>\n",
       "      <td>28.459160</td>\n",
       "      <td>37.321850</td>\n",
       "      <td>36.852788</td>\n",
       "      <td>53.739881</td>\n",
       "      <td>31.588841</td>\n",
       "      <td>285.683168</td>\n",
       "      <td>7.396040</td>\n",
       "      <td>7.435644</td>\n",
       "    </tr>\n",
       "    <tr>\n",
       "      <th>Hyundai</th>\n",
       "      <td>35803.639241</td>\n",
       "      <td>2015.417722</td>\n",
       "      <td>4.481013</td>\n",
       "      <td>2.273418</td>\n",
       "      <td>9.765823</td>\n",
       "      <td>76.848101</td>\n",
       "      <td>25.746294</td>\n",
       "      <td>33.590951</td>\n",
       "      <td>33.917482</td>\n",
       "      <td>48.984818</td>\n",
       "      <td>28.793620</td>\n",
       "      <td>323.500000</td>\n",
       "      <td>6.759494</td>\n",
       "      <td>6.759494</td>\n",
       "    </tr>\n",
       "    <tr>\n",
       "      <th>Infiniti</th>\n",
       "      <td>36434.888889</td>\n",
       "      <td>2015.703704</td>\n",
       "      <td>5.962963</td>\n",
       "      <td>3.511111</td>\n",
       "      <td>20.861111</td>\n",
       "      <td>72.657407</td>\n",
       "      <td>20.366878</td>\n",
       "      <td>25.880562</td>\n",
       "      <td>27.471818</td>\n",
       "      <td>39.345459</td>\n",
       "      <td>23.002081</td>\n",
       "      <td>396.157407</td>\n",
       "      <td>5.175926</td>\n",
       "      <td>5.175926</td>\n",
       "    </tr>\n",
       "    <tr>\n",
       "      <th>Jaguar</th>\n",
       "      <td>36044.214286</td>\n",
       "      <td>2015.500000</td>\n",
       "      <td>6.367347</td>\n",
       "      <td>3.571429</td>\n",
       "      <td>9.061224</td>\n",
       "      <td>87.867347</td>\n",
       "      <td>18.363583</td>\n",
       "      <td>23.168088</td>\n",
       "      <td>26.976133</td>\n",
       "      <td>38.277078</td>\n",
       "      <td>21.429054</td>\n",
       "      <td>433.755102</td>\n",
       "      <td>4.693878</td>\n",
       "      <td>4.612245</td>\n",
       "    </tr>\n",
       "    <tr>\n",
       "      <th>Kia</th>\n",
       "      <td>36075.435484</td>\n",
       "      <td>2015.612903</td>\n",
       "      <td>4.306452</td>\n",
       "      <td>2.168548</td>\n",
       "      <td>14.032258</td>\n",
       "      <td>71.241935</td>\n",
       "      <td>24.759523</td>\n",
       "      <td>32.193702</td>\n",
       "      <td>33.010664</td>\n",
       "      <td>47.700759</td>\n",
       "      <td>27.843018</td>\n",
       "      <td>326.266129</td>\n",
       "      <td>6.612903</td>\n",
       "      <td>6.612903</td>\n",
       "    </tr>\n",
       "    <tr>\n",
       "      <th>Lexus</th>\n",
       "      <td>36627.472000</td>\n",
       "      <td>2015.736000</td>\n",
       "      <td>6.176000</td>\n",
       "      <td>3.518400</td>\n",
       "      <td>20.176000</td>\n",
       "      <td>71.480000</td>\n",
       "      <td>21.316039</td>\n",
       "      <td>27.887682</td>\n",
       "      <td>28.305769</td>\n",
       "      <td>39.885319</td>\n",
       "      <td>23.870986</td>\n",
       "      <td>388.280000</td>\n",
       "      <td>5.280000</td>\n",
       "      <td>5.280000</td>\n",
       "    </tr>\n",
       "    <tr>\n",
       "      <th>MINI</th>\n",
       "      <td>36063.034826</td>\n",
       "      <td>2015.537313</td>\n",
       "      <td>3.786070</td>\n",
       "      <td>1.694030</td>\n",
       "      <td>14.706468</td>\n",
       "      <td>5.353234</td>\n",
       "      <td>24.922366</td>\n",
       "      <td>32.219974</td>\n",
       "      <td>32.449508</td>\n",
       "      <td>46.911494</td>\n",
       "      <td>27.807288</td>\n",
       "      <td>320.124378</td>\n",
       "      <td>6.721393</td>\n",
       "      <td>6.726368</td>\n",
       "    </tr>\n",
       "    <tr>\n",
       "      <th>Mazda</th>\n",
       "      <td>36022.126437</td>\n",
       "      <td>2015.563218</td>\n",
       "      <td>4.022989</td>\n",
       "      <td>2.212644</td>\n",
       "      <td>0.000000</td>\n",
       "      <td>51.517241</td>\n",
       "      <td>26.995895</td>\n",
       "      <td>35.310628</td>\n",
       "      <td>35.880013</td>\n",
       "      <td>52.533972</td>\n",
       "      <td>30.397474</td>\n",
       "      <td>295.229885</td>\n",
       "      <td>7.298851</td>\n",
       "      <td>7.298851</td>\n",
       "    </tr>\n",
       "    <tr>\n",
       "      <th>Mercedes-Benz</th>\n",
       "      <td>35913.587361</td>\n",
       "      <td>2015.394052</td>\n",
       "      <td>6.795539</td>\n",
       "      <td>3.820446</td>\n",
       "      <td>29.732342</td>\n",
       "      <td>62.568773</td>\n",
       "      <td>18.896946</td>\n",
       "      <td>23.871183</td>\n",
       "      <td>26.795179</td>\n",
       "      <td>37.690972</td>\n",
       "      <td>21.765718</td>\n",
       "      <td>419.828996</td>\n",
       "      <td>4.799257</td>\n",
       "      <td>4.799257</td>\n",
       "    </tr>\n",
       "    <tr>\n",
       "      <th>Porsche</th>\n",
       "      <td>36118.412766</td>\n",
       "      <td>2015.676596</td>\n",
       "      <td>6.204255</td>\n",
       "      <td>3.533617</td>\n",
       "      <td>53.038298</td>\n",
       "      <td>24.936170</td>\n",
       "      <td>18.774142</td>\n",
       "      <td>23.613414</td>\n",
       "      <td>26.199897</td>\n",
       "      <td>37.003414</td>\n",
       "      <td>21.504786</td>\n",
       "      <td>413.400000</td>\n",
       "      <td>4.778723</td>\n",
       "      <td>4.795745</td>\n",
       "    </tr>\n",
       "    <tr>\n",
       "      <th>Toyota</th>\n",
       "      <td>36624.948276</td>\n",
       "      <td>2015.844828</td>\n",
       "      <td>4.258621</td>\n",
       "      <td>2.128448</td>\n",
       "      <td>2.655172</td>\n",
       "      <td>69.000000</td>\n",
       "      <td>33.521868</td>\n",
       "      <td>45.392911</td>\n",
       "      <td>37.982182</td>\n",
       "      <td>55.308152</td>\n",
       "      <td>35.184424</td>\n",
       "      <td>263.120690</td>\n",
       "      <td>7.948276</td>\n",
       "      <td>7.948276</td>\n",
       "    </tr>\n",
       "    <tr>\n",
       "      <th>Volkswagen</th>\n",
       "      <td>35416.551724</td>\n",
       "      <td>2015.034483</td>\n",
       "      <td>4.224138</td>\n",
       "      <td>2.076437</td>\n",
       "      <td>21.045977</td>\n",
       "      <td>35.540230</td>\n",
       "      <td>24.474875</td>\n",
       "      <td>31.103506</td>\n",
       "      <td>33.390893</td>\n",
       "      <td>47.435924</td>\n",
       "      <td>27.769875</td>\n",
       "      <td>331.626437</td>\n",
       "      <td>6.683908</td>\n",
       "      <td>6.528736</td>\n",
       "    </tr>\n",
       "  </tbody>\n",
       "</table>\n",
       "</div>"
      ],
      "text/plain": [
       "                         id         year  cylinders     displ        pv2  \\\n",
       "make                                                                       \n",
       "Audi           35835.398010  2015.532338   5.512438  2.751741  25.781095   \n",
       "BMW            35953.648184  2015.493308   5.973231  3.083748  35.441683   \n",
       "Cadillac       36052.110169  2015.584746   5.474576  3.243220  24.398305   \n",
       "Chevrolet      35903.301887  2015.476415   4.886792  2.599528  19.740566   \n",
       "Dodge          35907.100000  2015.278571   6.285714  4.225714  32.228571   \n",
       "Ford           36168.706422  2015.559633   4.770642  2.560092  19.977064   \n",
       "Honda          36679.217822  2015.762376   4.297030  2.095050  48.108911   \n",
       "Hyundai        35803.639241  2015.417722   4.481013  2.273418   9.765823   \n",
       "Infiniti       36434.888889  2015.703704   5.962963  3.511111  20.861111   \n",
       "Jaguar         36044.214286  2015.500000   6.367347  3.571429   9.061224   \n",
       "Kia            36075.435484  2015.612903   4.306452  2.168548  14.032258   \n",
       "Lexus          36627.472000  2015.736000   6.176000  3.518400  20.176000   \n",
       "MINI           36063.034826  2015.537313   3.786070  1.694030  14.706468   \n",
       "Mazda          36022.126437  2015.563218   4.022989  2.212644   0.000000   \n",
       "Mercedes-Benz  35913.587361  2015.394052   6.795539  3.820446  29.732342   \n",
       "Porsche        36118.412766  2015.676596   6.204255  3.533617  53.038298   \n",
       "Toyota         36624.948276  2015.844828   4.258621  2.128448   2.655172   \n",
       "Volkswagen     35416.551724  2015.034483   4.224138  2.076437  21.045977   \n",
       "\n",
       "                     pv4       city      UCity    highway   UHighway  \\\n",
       "make                                                                   \n",
       "Audi           48.786070  20.426925  25.652045  29.389482  40.513205   \n",
       "BMW            55.269598  19.862614  25.157074  28.649093  40.927519   \n",
       "Cadillac       93.983051  18.845043  24.039474  26.939762  38.256114   \n",
       "Chevrolet      67.037736  23.955976  31.080558  33.017294  47.937314   \n",
       "Dodge          41.035714  18.516134  23.345414  27.948863  39.730484   \n",
       "Ford           67.908257  24.015862  31.406761  31.864245  46.266219   \n",
       "Honda          79.445545  28.459160  37.321850  36.852788  53.739881   \n",
       "Hyundai        76.848101  25.746294  33.590951  33.917482  48.984818   \n",
       "Infiniti       72.657407  20.366878  25.880562  27.471818  39.345459   \n",
       "Jaguar         87.867347  18.363583  23.168088  26.976133  38.277078   \n",
       "Kia            71.241935  24.759523  32.193702  33.010664  47.700759   \n",
       "Lexus          71.480000  21.316039  27.887682  28.305769  39.885319   \n",
       "MINI            5.353234  24.922366  32.219974  32.449508  46.911494   \n",
       "Mazda          51.517241  26.995895  35.310628  35.880013  52.533972   \n",
       "Mercedes-Benz  62.568773  18.896946  23.871183  26.795179  37.690972   \n",
       "Porsche        24.936170  18.774142  23.613414  26.199897  37.003414   \n",
       "Toyota         69.000000  33.521868  45.392911  37.982182  55.308152   \n",
       "Volkswagen     35.540230  24.474875  31.103506  33.390893  47.435924   \n",
       "\n",
       "                    comb         co2   feScore  ghgScore  \n",
       "make                                                      \n",
       "Audi           23.639240  384.676617  5.432836  5.402985  \n",
       "BMW            23.004798  394.885277  5.221797  5.214149  \n",
       "Cadillac       21.773203  408.686441  4.915254  4.932203  \n",
       "Chevrolet      27.224809  343.957547  6.386792  6.353774  \n",
       "Dodge          21.812190  424.164286  4.878571  4.878571  \n",
       "Ford           26.796018  345.027523  6.261468  6.261468  \n",
       "Honda          31.588841  285.683168  7.396040  7.435644  \n",
       "Hyundai        28.793620  323.500000  6.759494  6.759494  \n",
       "Infiniti       23.002081  396.157407  5.175926  5.175926  \n",
       "Jaguar         21.429054  433.755102  4.693878  4.612245  \n",
       "Kia            27.843018  326.266129  6.612903  6.612903  \n",
       "Lexus          23.870986  388.280000  5.280000  5.280000  \n",
       "MINI           27.807288  320.124378  6.721393  6.726368  \n",
       "Mazda          30.397474  295.229885  7.298851  7.298851  \n",
       "Mercedes-Benz  21.765718  419.828996  4.799257  4.799257  \n",
       "Porsche        21.504786  413.400000  4.778723  4.795745  \n",
       "Toyota         35.184424  263.120690  7.948276  7.948276  \n",
       "Volkswagen     27.769875  331.626437  6.683908  6.528736  "
      ]
     },
     "execution_count": 113,
     "metadata": {},
     "output_type": "execute_result"
    }
   ],
   "source": [
    "base_color = sb.color_palette()[0]\n",
    "group_means = fuel_econ_sub.groupby(['make']).mean()\n",
    "group_means"
   ]
  },
  {
   "cell_type": "code",
   "execution_count": 114,
   "metadata": {},
   "outputs": [],
   "source": [
    "group_means = group_means['comb'].sort_values(ascending=False)"
   ]
  },
  {
   "cell_type": "code",
   "execution_count": 115,
   "metadata": {},
   "outputs": [
    {
     "data": {
      "text/plain": [
       "make\n",
       "Toyota           35.184424\n",
       "Honda            31.588841\n",
       "Mazda            30.397474\n",
       "Hyundai          28.793620\n",
       "Kia              27.843018\n",
       "MINI             27.807288\n",
       "Volkswagen       27.769875\n",
       "Chevrolet        27.224809\n",
       "Ford             26.796018\n",
       "Lexus            23.870986\n",
       "Audi             23.639240\n",
       "BMW              23.004798\n",
       "Infiniti         23.002081\n",
       "Dodge            21.812190\n",
       "Cadillac         21.773203\n",
       "Mercedes-Benz    21.765718\n",
       "Porsche          21.504786\n",
       "Jaguar           21.429054\n",
       "Name: comb, dtype: float64"
      ]
     },
     "execution_count": 115,
     "metadata": {},
     "output_type": "execute_result"
    }
   ],
   "source": [
    "group_means"
   ]
  },
  {
   "cell_type": "code",
   "execution_count": 116,
   "metadata": {},
   "outputs": [],
   "source": [
    "group_order = group_means.index"
   ]
  },
  {
   "cell_type": "code",
   "execution_count": 117,
   "metadata": {},
   "outputs": [
    {
     "data": {
      "image/png": "[encoded data removed]",
      "text/plain": [
       "<Figure size 432x288 with 1 Axes>"
      ]
     },
     "metadata": {
      "needs_background": "light"
     },
     "output_type": "display_data"
    }
   ],
   "source": [
    "sb.barplot(data=fuel_econ_sub,y='make',x='comb',color=base_color,ci='sd',order=group_order);\n",
    "plt.xlabel('Average Combined Fuel Eff (mpg)');"
   ]
  },
  {
   "cell_type": "code",
   "execution_count": null,
   "metadata": {},
   "outputs": [],
   "source": []
  }
 ],
 "metadata": {
  "kernelspec": {
   "display_name": "Python 3",
   "language": "python",
   "name": "python3"
  },
  "language_info": {
   "codemirror_mode": {
    "name": "ipython",
    "version": 3
   },
   "file_extension": ".py",
   "mimetype": "text/x-python",
   "name": "python",
   "nbconvert_exporter": "python",
   "pygments_lexer": "ipython3",
   "version": "3.8.5"
  }
 },
 "nbformat": 4,
 "nbformat_minor": 4
}
